{
  "nbformat": 4,
  "nbformat_minor": 0,
  "metadata": {
    "colab": {
      "provenance": []
    },
    "kernelspec": {
      "name": "python3",
      "display_name": "Python 3"
    },
    "language_info": {
      "name": "python"
    }
  },
  "cells": [
    {
      "cell_type": "code",
      "source": [
        "import matplotlib.pyplot as plt\n",
        "import math\n",
        "import numpy as np\n",
        "from scipy.optimize import curve_fit\n",
        "from tabulate import tabulate"
      ],
      "metadata": {
        "id": "oUMbPYuU66dc"
      },
      "execution_count": null,
      "outputs": []
    },
    {
      "cell_type": "code",
      "execution_count": null,
      "metadata": {
        "id": "ZRvr4YMS65Bw"
      },
      "outputs": [],
      "source": [
        "#This function returns the amount of wine at the kth cup at time t given the capacity. T is assumed to be 1. This function is obtained using the solution from assgn-1 and will\n",
        "# be used to generate data for the black box model\n",
        "def x_k(k,t,capacity):\n",
        "  sum=0\n",
        "  if t>1:\n",
        "    t=1\n",
        "  for i in range(k):\n",
        "    sum+=(1.0/math.factorial(i))*(t**i)\n",
        "  sum=sum*math.exp(-t)\n",
        "  ans=capacity*(1-sum)\n",
        "  return ans\n"
      ]
    },
    {
      "cell_type": "code",
      "source": [
        "t=np.random.uniform(low=0.0,high=1.0,size=1000)"
      ],
      "metadata": {
        "id": "VAfXCICk7tkN"
      },
      "execution_count": null,
      "outputs": []
    },
    {
      "cell_type": "code",
      "source": [
        "true_x1=[] # These arrays shall store the actual amount of wine at cups 1,2,3,4,5 at the above times\n",
        "true_x2=[]\n",
        "true_x3=[]\n",
        "true_x4=[]\n",
        "true_x5=[]\n",
        "\n",
        "for i in range(1000):\n",
        "  true_x1.append(x_k(1,t[i],1.0))\n",
        "  true_x2.append(x_k(2,t[i],1.0))\n",
        "  true_x3.append(x_k(3,t[i],1.0))\n",
        "  true_x4.append(x_k(4,t[i],1.0))\n",
        "  true_x5.append(x_k(5,t[i],1.0))\n",
        "\n",
        "true_x1=np.array(true_x1)\n",
        "true_x2=np.array(true_x2)\n",
        "true_x3=np.array(true_x3)\n",
        "true_x4=np.array(true_x4)\n",
        "true_x5=np.array(true_x5)"
      ],
      "metadata": {
        "id": "gZIK1Mc28akq"
      },
      "execution_count": null,
      "outputs": []
    },
    {
      "cell_type": "code",
      "source": [
        "def objective(t,a,b,c,d):\n",
        "  return a+b*(t)+c*(t**2)+d*(t**3)"
      ],
      "metadata": {
        "id": "44iRjZ79-Ax9"
      },
      "execution_count": null,
      "outputs": []
    },
    {
      "cell_type": "code",
      "source": [
        "parameters_1,_=curve_fit(objective,t[:800],true_x1[:800]) #only 80% used for training\n",
        "parameters_2,_=curve_fit(objective,t[:800],true_x2[:800])\n",
        "parameters_3,_=curve_fit(objective,t[:800],true_x3[:800])\n",
        "parameters_4,_=curve_fit(objective,t[:800],true_x4[:800])\n",
        "parameters_5,_=curve_fit(objective,t[:800],true_x5[:800])"
      ],
      "metadata": {
        "id": "Bi-2PHWdA0Yg"
      },
      "execution_count": null,
      "outputs": []
    },
    {
      "cell_type": "code",
      "source": [
        "parameters_5"
      ],
      "metadata": {
        "colab": {
          "base_uri": "https://localhost:8080/"
        },
        "id": "iY23EdVIUyvL",
        "outputId": "93f28905-d5f8-4b96-efea-aaae661dc262"
      },
      "execution_count": null,
      "outputs": [
        {
          "output_type": "execute_result",
          "data": {
            "text/plain": [
              "array([-7.00042329e-05,  1.36407966e-03, -6.01701187e-03,  8.33066253e-03])"
            ]
          },
          "metadata": {},
          "execution_count": 36
        }
      ]
    },
    {
      "cell_type": "code",
      "source": [
        "predictions_x1=[] # remaining 20% used for testing\n",
        "error=0.0\n",
        "for i in range(800,1000):\n",
        "  predictions_x1.append(objective(t[i],parameters_1[0],parameters_1[1],parameters_1[2],parameters_1[3]))\n",
        "predictions_x1=np.array(predictions_x1)\n",
        "print(np.mean(np.abs(predictions_x1-true_x1[800:])))\n"
      ],
      "metadata": {
        "colab": {
          "base_uri": "https://localhost:8080/"
        },
        "id": "bL_aWhCcB7vq",
        "outputId": "f8131eb1-3584-4f79-d170-6581f1b86c88"
      },
      "execution_count": null,
      "outputs": [
        {
          "output_type": "stream",
          "name": "stdout",
          "text": [
            "0.00010707290521724408\n"
          ]
        }
      ]
    },
    {
      "cell_type": "code",
      "source": [
        "predictions_x2=[]\n",
        "error=0.0\n",
        "for i in range(800,1000):\n",
        "  predictions_x2.append(objective(t[i],parameters_2[0],parameters_2[1],parameters_2[2],parameters_2[3]))\n",
        "predictions_x2=np.array(predictions_x2)\n",
        "print(np.mean(np.abs(predictions_x2-true_x2[800:])))"
      ],
      "metadata": {
        "colab": {
          "base_uri": "https://localhost:8080/"
        },
        "id": "Jd32UnfrC4B_",
        "outputId": "56b3d07a-05bc-4a8c-f3da-e9802f697165"
      },
      "execution_count": null,
      "outputs": [
        {
          "output_type": "stream",
          "name": "stdout",
          "text": [
            "0.00026981658720415025\n"
          ]
        }
      ]
    },
    {
      "cell_type": "code",
      "source": [
        "predictions_x3=[]\n",
        "error=0.0\n",
        "for i in range(800,1000):\n",
        "  predictions_x3.append(objective(t[i],parameters_3[0],parameters_3[1],parameters_3[2],parameters_3[3]))\n",
        "predictions_x3=np.array(predictions_x3)\n",
        "print(np.mean(np.abs(predictions_x3-true_x3[800:])))"
      ],
      "metadata": {
        "colab": {
          "base_uri": "https://localhost:8080/"
        },
        "id": "m_5xWhSCE6kc",
        "outputId": "76fdbc16-f772-4df4-8a99-cb7ee83dc528"
      },
      "execution_count": null,
      "outputs": [
        {
          "output_type": "stream",
          "name": "stdout",
          "text": [
            "0.0001807712160459786\n"
          ]
        }
      ]
    },
    {
      "cell_type": "code",
      "source": [
        "predictions_x4=[]\n",
        "error=0.0\n",
        "for i in range(800,1000):\n",
        "  predictions_x4.append(objective(t[i],parameters_4[0],parameters_4[1],parameters_4[2],parameters_4[3]))\n",
        "predictions_x4=np.array(predictions_x4)\n",
        "print(np.mean(np.abs(predictions_x4-true_x4[800:])))"
      ],
      "metadata": {
        "colab": {
          "base_uri": "https://localhost:8080/"
        },
        "id": "NUQ-8D_KIbxB",
        "outputId": "b51ce4ec-733b-4d33-8bd1-03fc16dadb28"
      },
      "execution_count": null,
      "outputs": [
        {
          "output_type": "stream",
          "name": "stdout",
          "text": [
            "1.1798931194920716e-05\n"
          ]
        }
      ]
    },
    {
      "cell_type": "code",
      "source": [
        "predictions_x5=[]\n",
        "error=0.0\n",
        "for i in range(800,1000):\n",
        "  predictions_x5.append(objective(t[i],parameters_5[0],parameters_5[1],parameters_5[2],parameters_5[3]))\n",
        "predictions_x5=np.array(predictions_x5)\n",
        "print(np.mean(np.abs(predictions_x5-true_x5[800:])))"
      ],
      "metadata": {
        "colab": {
          "base_uri": "https://localhost:8080/"
        },
        "id": "TX2tdm3EIn0s",
        "outputId": "563d0040-4c2a-4fac-a9e3-55107a3ef2ef"
      },
      "execution_count": null,
      "outputs": [
        {
          "output_type": "stream",
          "name": "stdout",
          "text": [
            "1.8117944647648166e-05\n"
          ]
        }
      ]
    },
    {
      "cell_type": "code",
      "source": [
        "# Table comparing predicted values with true values for 20 data points for cup 5\n",
        "data=[]\n",
        "for i in range(20):\n",
        "  data.append([t[980+i],true_x5[980+i],predictions_x5[180+i]])\n",
        "head=['Time (t)','True amount of wine in cup 5','Predicted amount of wine in cup 5']\n",
        "print(tabulate(data, headers=head, tablefmt=\"grid\"))"
      ],
      "metadata": {
        "colab": {
          "base_uri": "https://localhost:8080/"
        },
        "id": "605IYkfjI2iV",
        "outputId": "a6d5f9df-65b7-4d70-bc71-7ddc1d4c016c"
      },
      "execution_count": null,
      "outputs": [
        {
          "output_type": "stream",
          "name": "stdout",
          "text": [
            "+------------+--------------------------------+-------------------------------------+\n",
            "|   Time (t) |   True amount of wine in cup 5 |   Predicted amount of wine in cup 5 |\n",
            "+============+================================+=====================================+\n",
            "|  0.791587  |                    0.00134787  |                         0.00137161  |\n",
            "+------------+--------------------------------+-------------------------------------+\n",
            "|  0.0138564 |                    4.20797e-12 |                        -5.22361e-05 |\n",
            "+------------+--------------------------------+-------------------------------------+\n",
            "|  0.884947  |                    0.0021811   |                         0.00219841  |\n",
            "+------------+--------------------------------+-------------------------------------+\n",
            "|  0.886329  |                    0.00219572  |                         0.00221266  |\n",
            "+------------+--------------------------------+-------------------------------------+\n",
            "|  0.280879  |                    1.15373e-05 |                         2.30393e-05 |\n",
            "+------------+--------------------------------+-------------------------------------+\n",
            "|  0.465047  |                    0.000123297 |                         0.000100923 |\n",
            "+------------+--------------------------------+-------------------------------------+\n",
            "|  0.777208  |                    0.00124435  |                         0.00126661  |\n",
            "+------------+--------------------------------+-------------------------------------+\n",
            "|  0.737802  |                    0.000990698 |                         0.00100684  |\n",
            "+------------+--------------------------------+-------------------------------------+\n",
            "|  0.246853  |                    6.22214e-06 |                         2.53805e-05 |\n",
            "+------------+--------------------------------+-------------------------------------+\n",
            "|  0.213439  |                    3.09129e-06 |                         2.80343e-05 |\n",
            "+------------+--------------------------------+-------------------------------------+\n",
            "|  0.757189  |                    0.00111015  |                         0.00112963  |\n",
            "+------------+--------------------------------+-------------------------------------+\n",
            "|  0.784693  |                    0.00129747  |                         0.00132056  |\n",
            "+------------+--------------------------------+-------------------------------------+\n",
            "|  0.697551  |                    0.000773438 |                         0.0007813   |\n",
            "+------------+--------------------------------+-------------------------------------+\n",
            "|  0.824774  |                    0.0016109   |                         0.00163593  |\n",
            "+------------+--------------------------------+-------------------------------------+\n",
            "|  0.564045  |                    0.00029831  |                         0.000280035 |\n",
            "+------------+--------------------------------+-------------------------------------+\n",
            "|  0.358352  |                    3.65796e-05 |                         2.94968e-05 |\n",
            "+------------+--------------------------------+-------------------------------------+\n",
            "|  0.293943  |                    1.43262e-05 |                         2.26499e-05 |\n",
            "+------------+--------------------------------+-------------------------------------+\n",
            "|  0.106579  |                    1.04869e-07 |                         1.71156e-05 |\n",
            "+------------+--------------------------------+-------------------------------------+\n",
            "|  0.854786  |                    0.00187953  |                         0.00190258  |\n",
            "+------------+--------------------------------+-------------------------------------+\n",
            "|  0.0544117 |                    3.79839e-09 |                        -1.22545e-05 |\n",
            "+------------+--------------------------------+-------------------------------------+\n"
          ]
        }
      ]
    },
    {
      "cell_type": "code",
      "source": [
        "# code to generate plot of the predicted objective function\n",
        "y_pred=[]\n",
        "for i in range(10000):\n",
        "  y_pred.append(objective(i/10000.0,parameters_5[0],parameters_5[1],parameters_5[2],parameters_5[3]))\n",
        "\n",
        "data=np.array(data)# using the data table defined in the previous cell to compare the predicted curve and true points\n",
        "plt.plot(np.array(list(range(10000)))/10000.0,y_pred,c='b',label='Predicted curve')\n",
        "plt.scatter(data[:,0],data[:,1],c='green',s=15,label='True points')\n",
        "plt.title('Predicted curve for amount of wine in cup5')\n",
        "plt.ylabel('Amount of wine')\n",
        "plt.xlabel('Time (t)')\n",
        "plt.grid('on')\n",
        "plt.legend()\n"
      ],
      "metadata": {
        "colab": {
          "base_uri": "https://localhost:8080/",
          "height": 489
        },
        "id": "JQZkR0ouXNHr",
        "outputId": "3998c7d4-919e-4c38-ca6d-3a4695f03754"
      },
      "execution_count": null,
      "outputs": [
        {
          "output_type": "execute_result",
          "data": {
            "text/plain": [
              "<matplotlib.legend.Legend at 0x7f56c952bca0>"
            ]
          },
          "metadata": {},
          "execution_count": 54
        },
        {
          "output_type": "display_data",
          "data": {
            "text/plain": [
              "<Figure size 640x480 with 1 Axes>"
            ],
            "image/png": "[encoded data removed]"
          },
          "metadata": {}
        }
      ]
    }
  ]
}