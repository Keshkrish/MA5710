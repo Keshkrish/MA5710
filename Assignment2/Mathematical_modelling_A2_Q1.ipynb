{
  "nbformat": 4,
  "nbformat_minor": 0,
  "metadata": {
    "colab": {
      "provenance": []
    },
    "kernelspec": {
      "name": "python3",
      "display_name": "Python 3"
    },
    "language_info": {
      "name": "python"
    }
  },
  "cells": [
    {
      "cell_type": "code",
      "execution_count": null,
      "metadata": {
        "id": "GIMcu8hX9eQi"
      },
      "outputs": [],
      "source": [
        "import random\n",
        "import matplotlib.pyplot as plt\n",
        "import numpy as np\n",
        "import math\n",
        "from scipy.optimize import curve_fit\n",
        "from tabulate import tabulate"
      ]
    },
    {
      "cell_type": "code",
      "source": [
        "r_small=np.random.normal(25.0,5.0,100)\n",
        "R_big=np.random.normal(125.0,25.0,100)\n",
        "h=np.random.normal(125.0,25.0,100)\n",
        "\n"
      ],
      "metadata": {
        "id": "n5nSapTrC2fZ"
      },
      "execution_count": null,
      "outputs": []
    },
    {
      "cell_type": "code",
      "source": [
        "min(r_small),min(R_big),min(h),max(r_small)"
      ],
      "metadata": {
        "colab": {
          "base_uri": "https://localhost:8080/"
        },
        "id": "4Mq66HxMHyjr",
        "outputId": "e72e3aba-4b59-4e18-f144-08494cc79f56"
      },
      "execution_count": null,
      "outputs": [
        {
          "output_type": "execute_result",
          "data": {
            "text/plain": [
              "(11.557705697134583, 74.44364681325868, 65.43999313688755, 35.83580562400384)"
            ]
          },
          "metadata": {},
          "execution_count": 104
        }
      ]
    },
    {
      "cell_type": "code",
      "source": [
        "upper_bound=[]\n",
        "lower_bound=[]\n",
        "\n",
        "for i in range(100):\n",
        "  upper_bound.append(math.ceil((0.56*R_big[i]*R_big[i]*h[i])/(r_small[i]**3)))\n",
        "  n=math.floor((R_big[i]-r_small[i])/(2.0*r_small[i]))\n",
        "  lower_bound.append(((6*(2**n))-5)*math.floor(h[i]/(2.0*r_small[i])))"
      ],
      "metadata": {
        "id": "FckneX66IKK9"
      },
      "execution_count": null,
      "outputs": []
    },
    {
      "cell_type": "code",
      "source": [
        "upper_bound=np.array(upper_bound)\n",
        "lower_bound=np.array(lower_bound)"
      ],
      "metadata": {
        "id": "QN0OEPUcLIVw"
      },
      "execution_count": null,
      "outputs": []
    },
    {
      "cell_type": "code",
      "source": [
        "def objective(rRh,a,b,c,d,e,f):\n",
        "  r,R,he=rRh\n",
        "\n",
        "  return a+b*(R/r)+c*(he/r)+d*((he*R)/(r*r))+e*(R**2/r**2)+f*(he**2/r**2)"
      ],
      "metadata": {
        "id": "4kLqF6z9Px76"
      },
      "execution_count": null,
      "outputs": []
    },
    {
      "cell_type": "code",
      "source": [
        "parameters_lower,_=curve_fit(objective, (r_small[:80],R_big[:80],h[:80]), lower_bound[:80])\n",
        "parameters_upper,_=curve_fit(objective, (r_small[:80],R_big[:80],h[:80]), upper_bound[:80])"
      ],
      "metadata": {
        "id": "7ftbSgTkY2bf"
      },
      "execution_count": null,
      "outputs": []
    },
    {
      "cell_type": "code",
      "source": [
        "parameters_upper"
      ],
      "metadata": {
        "colab": {
          "base_uri": "https://localhost:8080/"
        },
        "id": "ZniTImq0aR2d",
        "outputId": "40f41546-4c82-4d31-be99-fc98f64c5cba"
      },
      "execution_count": null,
      "outputs": [
        {
          "output_type": "execute_result",
          "data": {
            "text/plain": [
              "array([127.44234486, -41.40802047, -24.77285928,   6.76672   ,\n",
              "         3.58242496,   0.52119129])"
            ]
          },
          "metadata": {},
          "execution_count": 109
        }
      ]
    },
    {
      "cell_type": "code",
      "source": [
        "parameters_lower"
      ],
      "metadata": {
        "colab": {
          "base_uri": "https://localhost:8080/"
        },
        "id": "2iDjg8PSq52w",
        "outputId": "9499511a-46c6-4294-a269-dc474ca9ecc4"
      },
      "execution_count": null,
      "outputs": [
        {
          "output_type": "execute_result",
          "data": {
            "text/plain": [
              "array([215.04536194, -46.76315421, -50.63597943,   4.78806912,\n",
              "         3.55809617,   3.25960738])"
            ]
          },
          "metadata": {},
          "execution_count": 116
        }
      ]
    },
    {
      "cell_type": "code",
      "source": [
        "error=0.0\n",
        "predicted_lower=[]\n",
        "for i in range(80,100):\n",
        "  x=objective((r_small[i],R_big[i],h[i]),parameters_lower[0],parameters_lower[1],parameters_lower[2],parameters_lower[3],parameters_lower[4],parameters_lower[5])\n",
        "  error+=abs(x-lower_bound[i])\n",
        "  predicted_lower.append(x)\n",
        "print(error/20.0)"
      ],
      "metadata": {
        "colab": {
          "base_uri": "https://localhost:8080/"
        },
        "id": "bs7KES1U6YrI",
        "outputId": "f4479ab9-152b-497a-fa42-0fd040ecefce"
      },
      "execution_count": null,
      "outputs": [
        {
          "output_type": "stream",
          "name": "stdout",
          "text": [
            "15.380709617135249\n"
          ]
        }
      ]
    },
    {
      "cell_type": "code",
      "source": [
        "error=0.0\n",
        "predicted_upper=[]\n",
        "for i in range(80,100):\n",
        "  y=objective((r_small[i],R_big[i],h[i]),parameters_upper[0],parameters_upper[1],parameters_upper[2],parameters_upper[3],parameters_upper[4],parameters_upper[5])\n",
        "  error+=abs(y-upper_bound[i])\n",
        "  predicted_upper.append(y)\n",
        "print(error/20.0)"
      ],
      "metadata": {
        "colab": {
          "base_uri": "https://localhost:8080/"
        },
        "id": "nRboybB65n2F",
        "outputId": "a693908b-4c45-41a9-b60e-953fea378225"
      },
      "execution_count": null,
      "outputs": [
        {
          "output_type": "stream",
          "name": "stdout",
          "text": [
            "4.086155880786951\n"
          ]
        }
      ]
    },
    {
      "cell_type": "code",
      "source": [
        "data=[]\n",
        "for i in range(80,100):\n",
        "  data.append([r_small[i],R_big[i],h[i],int(predicted_lower[i-80]),int(predicted_upper[i-80])])\n",
        "head=['r','R','h','Predicted lower bound','Predicted upper bound']\n",
        "print(tabulate(data, headers=head, tablefmt=\"grid\"))"
      ],
      "metadata": {
        "colab": {
          "base_uri": "https://localhost:8080/"
        },
        "id": "WAuzzsosrpD5",
        "outputId": "9f8221f3-23d9-42f3-e99d-7f7b79a75339"
      },
      "execution_count": null,
      "outputs": [
        {
          "output_type": "stream",
          "name": "stdout",
          "text": [
            "+---------+----------+---------+-------------------------+-------------------------+\n",
            "|       r |        R |       h |   Predicted lower bound |   Predicted upper bound |\n",
            "+=========+==========+=========+=========================+=========================+\n",
            "| 28.5075 | 134.921  | 129.026 |                      13 |                      55 |\n",
            "+---------+----------+---------+-------------------------+-------------------------+\n",
            "| 19.3759 |  74.4436 | 156.678 |                      40 |                      65 |\n",
            "+---------+----------+---------+-------------------------+-------------------------+\n",
            "| 29.8831 | 141.604  | 143.241 |                      14 |                      58 |\n",
            "+---------+----------+---------+-------------------------+-------------------------+\n",
            "| 13.8768 | 151.446  | 168.265 |                     627 |                     773 |\n",
            "+---------+----------+---------+-------------------------+-------------------------+\n",
            "| 19.973  | 125.293  | 136.974 |                      73 |                     154 |\n",
            "+---------+----------+---------+-------------------------+-------------------------+\n",
            "| 33.6478 | 161.354  | 125.191 |                      14 |                      47 |\n",
            "+---------+----------+---------+-------------------------+-------------------------+\n",
            "| 18.4564 | 160.502  | 100.287 |                     124 |                     238 |\n",
            "+---------+----------+---------+-------------------------+-------------------------+\n",
            "| 29.1606 | 122.086  | 155.348 |                      11 |                      50 |\n",
            "+---------+----------+---------+-------------------------+-------------------------+\n",
            "| 29.997  | 154.895  | 124.677 |                      17 |                      60 |\n",
            "+---------+----------+---------+-------------------------+-------------------------+\n",
            "| 29.8129 | 132.358  | 121.476 |                      11 |                      44 |\n",
            "+---------+----------+---------+-------------------------+-------------------------+\n",
            "| 28.854  | 122.339  | 136.972 |                      10 |                      46 |\n",
            "+---------+----------+---------+-------------------------+-------------------------+\n",
            "| 24.3581 | 106.528  | 129.291 |                      12 |                      55 |\n",
            "+---------+----------+---------+-------------------------+-------------------------+\n",
            "| 27.5629 |  89.7996 | 134.559 |                       7 |                      29 |\n",
            "+---------+----------+---------+-------------------------+-------------------------+\n",
            "| 19.2333 | 126.691  | 116.215 |                      65 |                     148 |\n",
            "+---------+----------+---------+-------------------------+-------------------------+\n",
            "| 26.8082 |  97.2157 | 119.5   |                       8 |                      33 |\n",
            "+---------+----------+---------+-------------------------+-------------------------+\n",
            "| 15.6994 | 135.891  | 119.134 |                     194 |                     323 |\n",
            "+---------+----------+---------+-------------------------+-------------------------+\n",
            "| 25.7242 |  97.9184 | 161.215 |                      13 |                      48 |\n",
            "+---------+----------+---------+-------------------------+-------------------------+\n",
            "| 31.9177 | 138.791  | 121.042 |                      12 |                      40 |\n",
            "+---------+----------+---------+-------------------------+-------------------------+\n",
            "| 27.4958 | 155.461  | 102.397 |                      21 |                      65 |\n",
            "+---------+----------+---------+-------------------------+-------------------------+\n",
            "| 33.5295 |  98.9941 | 123.113 |                      17 |                      25 |\n",
            "+---------+----------+---------+-------------------------+-------------------------+\n"
          ]
        }
      ]
    }
  ]
}